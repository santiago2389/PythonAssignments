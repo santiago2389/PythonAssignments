{
 "cells": [
  {
   "cell_type": "markdown",
   "id": "46d22342-3a9c-448f-99b9-19c8d104bc9f",
   "metadata": {},
   "source": [
    "1. What is a lambda function in Python, and how does it differ from a regular function?\n",
    "<br>ANS:<br>\n",
    "The lambda functions can be used without any declaration in the namespace. \n",
    "The lambda functions defined are like single-line functions. \n",
    "These functions do not have parenthesis like the def defined functions but instead, take parameters after the lambda keyword as shown above. \n",
    "There is no return keyword defined explicitly because the lambda function does return an object by default\n",
    "\n",
    "| lambda functions | regular functions| \n",
    "|:--------:|:--------:|\n",
    "|The limited operation can be performed using lambda functions  | Can consists of any number of execution statements inside the function definition   | \n",
    "|----------|----------|\n",
    "|  No need of using the return statement | To return an object from the function, return should be explicitly defined  | \n",
    "|----------|----------|\n",
    "| Execution time of the program is fast for the same operation  | Execution time is relatively slower for the same operation performed using lambda functions   | \n",
    "|----------|----------|\n",
    "| Defined using the keyword lambda and does not compulsorily hold a function name in the local namespace  | Defined using the keyword def and holds a function name in the local namespace  | "
   ]
  },
  {
   "cell_type": "markdown",
   "id": "7ba424df-bff2-4e36-ae20-437c0de973cb",
   "metadata": {},
   "source": [
    "2. Can a lambda function in Python have multiple arguments? If yes, how can you define and use them?\n",
    "<br>ANS<br>\n",
    " - Yes, a lambda function in Python can have multiple arguments. \n",
    " - Lambda functions are also known as anonymous functions or lambda expressions, and they can take any number of arguments, separated by commas. \n",
    " - The basic syntax for a lambda function with multiple arguments is as follows\n",
    "   lambda arguments: expression\n",
    "```\n",
    "add = lambda x, y: x + y\n",
    "result = add(5, 3)\n",
    "print(result)  # Output: 8\n",
    "```"
   ]
  },
  {
   "cell_type": "markdown",
   "id": "a5dd9fd5-b5e4-4230-be7b-bfb5456f0b53",
   "metadata": {},
   "source": [
    "3. How are lambda functions typically used in Python? Provide an example use case.\n",
    "<br>ANS<br>\n",
    " - The lambda functions can be used without any declaration in the namespace. \n",
    " - The lambda functions defined are like single-line functions. \n",
    " - These functions do not have parenthesis like the def defined functions but instead, take parameters after the lambda keyword as shown above. \n",
    " - There is no return keyword defined explicitly because the lambda function does return an object by default\n",
    " \n",
    "```\n",
    "# Use case: squared numbers\n",
    "numbers = [1, 2, 3, 4, 5]\n",
    "squared_numbers = list(map(lambda x: x ** 2, numbers))\n",
    "print(squared_numbers)  # Output: [1, 4, 9, 16, 25]\n",
    "```"
   ]
  },
  {
   "cell_type": "markdown",
   "id": "b2502dd9-58f8-401a-b55f-852b470b74fc",
   "metadata": {},
   "source": [
    "4. What are the advantages and limitations of lambda functions compared to regular functions in Python?\n",
    "<br>ANS<br>\n",
    "##### Advantages of Lambda Functions:\n",
    "\n",
    "     - Concise: Lambda functions are concise and allow you to define small, simple functions in a single line of code, which can make your code more readable when the function's logic is straightforward.\n",
    "\n",
    "     - Inline: Lambda functions are often used inline, making them suitable for situations where you need a small function as an argument to higher-order functions like map, filter, and reduce.\n",
    "\n",
    "     - Function Naming: Lambda functions are anonymous, so you don't need to come up with a name for them, which can be helpful when you have a one-off function that you don't intend to reuse elsewhere.\n",
    "\n",
    "\n",
    "##### Limitations of Lambda Functions:\n",
    "\n",
    "     - Complexity: Lambda functions are limited to a single expression, meaning you can't include multiple statements or complex logic within them. This limitation makes them unsuitable for more extensive functions.\n",
    "\n",
    "     -  Readability: While lambda functions can make simple expressions concise, they can make code less readable when used for complex logic. Named functions with clear, descriptive names are often more understandable.\n",
    "\n",
    "     - Docstrings: Lambda functions cannot have docstrings, which are used to document regular functions. Documentation is crucial for making your code understandable to others and yourself in the future.\n",
    "\n",
    "     - Reusability: Lambda functions are typically used for one-off, short-term purposes. If you need to reuse a function in multiple places in your code, it's better to define a regular function with a name and proper documentation.\n",
    "\n",
    "     - Debugging: When debugging, lambda functions can be less informative than regular functions because they lack a name and don't provide helpful tracebacks. This can make it harder to pinpoint issues in your code."
   ]
  },
  {
   "cell_type": "markdown",
   "id": "2ef1abbb-3dc0-4b8e-9f7a-29738d0eeada",
   "metadata": {},
   "source": [
    "5. Are lambda functions in Python able to access variables defined outside of their own scope? Explain with an example.\n",
    "<br>ANS<br>\n",
    "- Lambda functions in Python can access variables defined outside of their scope, but they do so using a concept called \"closure.\" \n",
    "- In Python, closures allow lambda functions to \"capture\" and use variables from the enclosing or outer scope in which the lambda function is defined. This is a powerful feature that enables lambda functions to work with external variables.\n",
    "\n",
    "- Here's an example to illustrate how lambda functions can access outer variables using closures:\n",
    "\n",
    "```\n",
    "def outer_function(x):\n",
    "    # Define a lambda function inside the outer_function\n",
    "    inner_lambda = lambda y: x + y\n",
    "    return inner_lambda\n",
    "\n",
    "# Create a closure by calling outer_function with x=10\n",
    "closure = outer_function(10)\n",
    "\n",
    "# Use the closure to add 5 to the captured x value\n",
    "result = closure(5)\n",
    "print(result)  # Output: 15\n",
    "```"
   ]
  },
  {
   "cell_type": "markdown",
   "id": "7600b0bd-1c92-4946-afbf-6afc45382359",
   "metadata": {},
   "source": [
    "6. Write a lambda function to calculate the square of a given number.\n",
    "<br>ANS<br>\n",
    "```\n",
    "#lambda fun to calculate square of given num\n",
    "square_num = lambda x: x**2\n",
    "square_num(10)\n",
    "```"
   ]
  },
  {
   "cell_type": "markdown",
   "id": "ba93fafe-91bb-47ec-956d-e03c4ad104d6",
   "metadata": {},
   "source": [
    "7. Create a lambda function to find the maximum value in a list of integers.\n",
    "<br>ANS<br>\n",
    "```\n",
    "max_num = lambda num_list: max(num_list)\n",
    "max_num([1, 2, 3, 4])\n",
    "```"
   ]
  },
  {
   "cell_type": "markdown",
   "id": "caaf1e93-a7c9-41a0-9331-6ffc703e8cac",
   "metadata": {},
   "source": [
    "8. Implement a lambda function to filter out all the even numbers from a list of integers.\n",
    "<br>ANS<br>\n",
    "```\n",
    "num_list = [1, 2, 3, 4]\n",
    "even_nums = list(filter(lambda x:x%2==0 ,num_list))\n",
    "print(even_nums)\n",
    "```"
   ]
  },
  {
   "cell_type": "markdown",
   "id": "001e9ca9-85a8-4428-b1d7-37a90db9fb1f",
   "metadata": {},
   "source": [
    "9. Write a lambda function to sort a list of strings in ascending order based on the length of each string.\n",
    "<br>ANS<br>\n",
    "```\n",
    "string_list = ['a', 'abcd', 'ab', 'abc']\n",
    "sorted_list = sorted(string_list, key=lambda x:len(x))\n",
    "print(sorted_list)\n",
    "```"
   ]
  },
  {
   "cell_type": "markdown",
   "id": "3abb26b2-333d-45a3-a1b6-2d1b591d2f20",
   "metadata": {},
   "source": [
    "10. Create a lambda function that takes two lists as input and returns a new list containing the common elements between the two lists.\n",
    "<br>ANS<br>\n",
    "```\n",
    "# solution 1\n",
    "list_1 = [20, 23, 26, 29, 31]\n",
    "list_2 = [14, 17, 20, 23, 26]\n",
    "\n",
    "common_elems = lambda a, b: set(a) & set(b)\n",
    "common_elems(list_1, list_2)\n",
    "```\n",
    "```\n",
    "# solution 2\n",
    "list_1 = [20, 23, 26, 29, 31]\n",
    "list_2 = [14, 17, 20, 23, 26]\n",
    "common_elems = lambda a, b: list(filter(lambda x: x in a, b))\n",
    "common_elems(list_1, list_2)\n",
    "```"
   ]
  },
  {
   "cell_type": "markdown",
   "id": "56fba6b3-6c5d-4b0a-b442-f50f0849b4dd",
   "metadata": {},
   "source": [
    "11. Write a recursive function to calculate the factorial of a given positive integer.\n",
    "<br>ANS<br>\n",
    "```\n",
    "def fact(x):\n",
    "    if x == 0 or x == 1:\n",
    "        return 1\n",
    "    return x*fact(x-1)\n",
    "num = 4\n",
    "fact(num)\n",
    "```"
   ]
  },
  {
   "cell_type": "markdown",
   "id": "80d9cab3-dfa0-4051-bd23-a254a84b56d4",
   "metadata": {},
   "source": [
    "12. Implement a recursive function to compute the nth Fibonacci number.\n",
    "<br>ANS<br>\n",
    "```\n",
    "def fib(n):\n",
    "    if n <= 0:\n",
    "        return 0\n",
    "    if n == 1:\n",
    "        return 1\n",
    "    return fib(n-1) + fib(n-2)\n",
    "\n",
    "fib(10) #ANS 55\n",
    "```"
   ]
  },
  {
   "cell_type": "markdown",
   "id": "7483ec54-6d77-4abd-afe9-54ede309f202",
   "metadata": {},
   "source": [
    "13. Create a recursive function to find the sum of all the elements in a given list.\n",
    "<br>ANS<br>\n",
    "```\n",
    "def summation(a):\n",
    "    if len(a) == 0:\n",
    "        return 0\n",
    "    return a[0] + summation(a[1:])\n",
    "summation([1, 2, 4, 5]) #ANS 12\n",
    "```"
   ]
  },
  {
   "cell_type": "markdown",
   "id": "934cc428-d323-496f-9adb-48958f2c2a7f",
   "metadata": {},
   "source": [
    "14. Write a recursive function to determine whether a given string is a palindrome.\n",
    "<br>ANS<br>\n",
    "```\n",
    "def is_palindrome(string):\n",
    "    string = string.lower()\n",
    "    if len(string) == 0:\n",
    "        return False\n",
    "    if len(string) == 1:\n",
    "        return True\n",
    "    if string[0] != string[-1]:\n",
    "        return False\n",
    "    return is_palindrome(string[1:-1])\n",
    "\n",
    "is_palindrome(\"Santnas\")\n",
    "```"
   ]
  },
  {
   "cell_type": "markdown",
   "id": "11915090-8dff-42c3-bcbb-6d968dd3c208",
   "metadata": {},
   "source": [
    "15. Implement a recursive function to find the greatest common divisor (GCD) of two positive integers\n",
    "<br>ANS<br>\n",
    "```\n",
    "def gcd(a, b):\n",
    "    if b == 0:\n",
    "        return a\n",
    "    else:\n",
    "        return gcd(b, a%b)\n",
    "gcd(54,72) #ANS 18\n",
    "```"
   ]
  }
 ],
 "metadata": {
  "kernelspec": {
   "display_name": "Python 3 (ipykernel)",
   "language": "python",
   "name": "python3"
  },
  "language_info": {
   "codemirror_mode": {
    "name": "ipython",
    "version": 3
   },
   "file_extension": ".py",
   "mimetype": "text/x-python",
   "name": "python",
   "nbconvert_exporter": "python",
   "pygments_lexer": "ipython3",
   "version": "3.10.6"
  }
 },
 "nbformat": 4,
 "nbformat_minor": 5
}
