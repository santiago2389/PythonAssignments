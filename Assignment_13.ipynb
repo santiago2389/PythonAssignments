{
 "cells": [
  {
   "cell_type": "markdown",
   "id": "94dd125e-1707-42b0-b80f-acc80eda0ff3",
   "metadata": {},
   "source": [
    "1. Explain what inheritance is in object-oriented programming and why it is used.\n",
    "<br>ANS<br>\n",
    " - Inheritance is a fundamental concept in object-oriented programming (OOP) that allows you to create a new class (called a subclass or derived class) by inheriting properties and behaviors from an existing class (called a superclass or base class). Inheritance is used to model \"is-a\" relationships between classes, where a subclass is a specialized version of a superclass.\n",
    "\n",
    " - Key points about inheritance in OOP:\n",
    "\n",
    "    1. Superclass and Subclass: The superclass is the existing class from which the subclass inherits. The subclass is the new class being created based on the superclass.\n",
    "\n",
    "    2. Inherited Attributes and Methods: Inheritance allows the subclass to inherit attributes (data) and methods (functions) from the superclass. The subclass can use, override, or extend these inherited members.\n",
    "\n",
    "    3. Code Reusability: Inheritance promotes code reuse. Instead of rewriting code for common attributes and behaviors, you can define them in a superclass and have multiple subclasses inherit and extend the functionality.\n",
    "\n",
    "    4. Specialization: Subclasses can specialize or customize the behavior of the superclass. They can add new attributes or methods, override existing methods, or provide unique implementations for specific behaviors.\n",
    "\n",
    "    5. Hierarchical Inheritance: Inheritance can create a hierarchy of classes, where a subclass can have its own subclasses. This hierarchical structure allows for modeling complex relationships and categorization.\n",
    "\n",
    "    6. Polymorphism: Inheritance is closely related to polymorphism, where objects of different classes can be treated as objects of a common superclass. This allows for more generic and flexible code."
   ]
  },
  {
   "cell_type": "markdown",
   "id": "43200ac6-c6ee-44dd-b522-2fe1f5bc7b48",
   "metadata": {},
   "source": [
    "2. Discuss the concept of single inheritance and multiple inheritance, highlighting their\n",
    "    differences and advantages.\n",
    "<br>ANS<br>\n",
    " - In object-oriented programming (OOP), inheritance is a mechanism that allows a class (subclass or derived class) to inherit properties and behaviors from one or more other classes (superclasses or base classes). There are two common forms of inheritance: single inheritance and multiple inheritance. Let's discuss each and highlight their differences and advantages.\n",
    "\n",
    "    1. Single Inheritance:\n",
    "\n",
    "        Definition: Single inheritance refers to the situation where a subclass inherits from only one superclass. In other words, a class can have only one immediate parent class.\n",
    "\n",
    "        Advantages:\n",
    "\n",
    "        1. Simplicity: Single inheritance is conceptually simpler to understand and implement. It results in a linear hierarchy of classes.\n",
    "        2. Reduced Complexity: The code is less likely to become overly complex or have issues related to ambiguity in method or attribute resolution.\n",
    "        \n",
    "    2. Multiple Inheritance:\n",
    "\n",
    "        Definition: Multiple inheritance occurs when a subclass inherits from two or more superclasses. This means that a class can have multiple parent classes.\n",
    "\n",
    "        Advantages:\n",
    "\n",
    "        1. Code Reuse: Multiple inheritance allows you to inherit and reuse code from multiple sources, promoting code reusability.\n",
    "        2. Flexibility: It provides flexibility in modeling complex relationships and behaviors by combining features from different classes.\n",
    "        3. Specialization: You can create subclasses that inherit attributes and methods from multiple superclasses, allowing for fine-grained specialization.\n",
    "        \n",
    " - Differences:\n",
    "\n",
    "    1. Number of Superclasses:\n",
    "        Single Inheritance: One superclass.\n",
    "        Multiple Inheritance: Two or more superclasses.\n",
    "    2. Class Hierarchy:\n",
    "        Single Inheritance: Linear hierarchy with a single parent class.\n",
    "        Multiple Inheritance: Complex hierarchy with multiple parent classes.\n",
    "    3. Method Resolution Order (MRO):\n",
    "        Single Inheritance: MRO is straightforward and follows the linear hierarchy.\n",
    "        Multiple Inheritance: MRO can be more complex, and Python uses the C3 Linearization algorithm to determine the order in which method lookups are performed."
   ]
  },
  {
   "cell_type": "markdown",
   "id": "d0fb6074-7599-4d97-a7ee-ecb4c6f43444",
   "metadata": {},
   "source": [
    "3. Explain the terms \"base class\" and \"derived class\" in the context of inheritance.\n",
    "<br> ANS <br>\n",
    " - In the context of inheritance in object-oriented programming (OOP), the terms \"base class\" and \"derived class\" refer to the classes involved in the inheritance relationship, where one class (the derived class) inherits attributes and methods from another class (the base class). These terms are also commonly known as \"superclass\" and \"subclass.\"\n",
    "\n",
    "1.  **Base Class (Superclass):**\n",
    "    \n",
    "    -   The base class, also known as the superclass or parent class, is the class that provides the attributes and methods that can be inherited by other classes.\n",
    "    -   It serves as a blueprint or template for creating derived classes.\n",
    "    -   The base class defines common characteristics and behaviors that multiple related classes can share.\n",
    "    -   Instances of the base class can be created, but they are typically more abstract and serve as a foundation for more specialized classes.\n",
    "2.  **Derived Class (Subclass):**\n",
    "    \n",
    "    -   The derived class, also known as the subclass or child class, is a class that inherits attributes and methods from the base class.\n",
    "    -   It can extend or specialize the functionality inherited from the base class by adding new attributes or methods, modifying existing ones (method overriding), or providing unique implementations.\n",
    "    -   A derived class can also introduce additional attributes and methods that are specific to that subclass.\n",
    "    -   Instances of the derived class inherit the properties and behaviors of both the base class and the subclass-specific features.\n",
    "\n",
    " - Inheritance relationships create an \"is-a\" relationship, where a derived class \"is-a\" type of the base class. This modeling technique allows you to organize and structure your code efficiently by reusing and extending existing classes. Base classes provide a common interface and shared functionality, while derived classes tailor that functionality to specific needs or requirements."
   ]
  },
  {
   "cell_type": "markdown",
   "id": "45b3a912-66d7-4541-b21f-c189438dab0f",
   "metadata": {},
   "source": [
    "4. What is the significance of the \"protected\" access modifier in inheritance? How does\n",
    "    it differ from \"private\" and \"public\" modifiers?\n",
    "<br>ANS<br>\n",
    "\n",
    " - Attributes or methods with an underscore prefix (e.g., _count,\n",
    "   _process_data) are considered protected in Python. For example, _count is a protected attribute.\n",
    " - Although not enforced by the language, the single underscore prefix\n",
    "   is a convention that indicates    that a member is intended to be\n",
    "   protected and should not be accessed    directly from outside the\n",
    "   class.\n",
    " - Derived class can access the protected methods of super class but private methods are not accessible outisde same class\n",
    " - public methods are accessible within and outside of the class"
   ]
  },
  {
   "cell_type": "markdown",
   "id": "6c74a5ed-a6c9-463c-9aea-417cf85ed598",
   "metadata": {},
   "source": [
    "5. What is the purpose of the \"super\" keyword in inheritance? Provide an example.\n",
    "<br>ANS<br>\n",
    " - super keyword is used to call __init__() method of parent class. \n",
    " - Inside derived class constructor super method is called to initialize the parent class attributes"
   ]
  },
  {
   "cell_type": "code",
   "execution_count": 3,
   "id": "e13b38c4-7090-417d-82ad-183fb37c713f",
   "metadata": {},
   "outputs": [
    {
     "name": "stdout",
     "output_type": "stream",
     "text": [
      "SMK\n"
     ]
    }
   ],
   "source": [
    "class Person:\n",
    "    def __init__(self, name, age):\n",
    "        self.name = name\n",
    "        self.age = age\n",
    "class Student(person):\n",
    "    def __init__(self, name, age, school_name):\n",
    "        super().__init__(name, age)\n",
    "        self.school_name = school_name\n",
    "student_1 = Student(\"SMK\", 16, \"SHS\")\n",
    "print(student_1.name)"
   ]
  },
  {
   "cell_type": "markdown",
   "id": "b853df3b-c962-4a77-82ca-f102ea26d63b",
   "metadata": {},
   "source": [
    "6. Create a base class called \"Vehicle\" with attributes like \"make\", \"model\", and \"year\".\n",
    "    Then, create a derived class called \"Car\" that inherits from \"Vehicle\" and adds an\n",
    "    attribute called \"fuel_type\". Implement appropriate methods in both classes."
   ]
  },
  {
   "cell_type": "code",
   "execution_count": 7,
   "id": "34754293-9015-4724-9ee0-c802222b3bd8",
   "metadata": {},
   "outputs": [
    {
     "name": "stdout",
     "output_type": "stream",
     "text": [
      "Toyota\n"
     ]
    }
   ],
   "source": [
    "class Vehicle:\n",
    "    def __init__(self, make, model, year):\n",
    "        self.make = make\n",
    "        self.model = model\n",
    "        self.year = year\n",
    "class Car(Vehicle):\n",
    "    def __init__(self, make, model, year, fuel_type):\n",
    "        super().__init__(make, model, year)\n",
    "        self.fuel_type = fuel_type\n",
    "car_1 = Car(\"Toyota\", \"XUV\", \"2023\", \"EV\")\n",
    "print(car_1.make)"
   ]
  },
  {
   "cell_type": "markdown",
   "id": "8eef3b3c-f50b-4a1f-aa47-9c2f057fdad4",
   "metadata": {},
   "source": [
    "7. Create a base class called \"Employee\" with attributes like \"name\" and \"salary.\"\n",
    "    Derive two classes, \"Manager\" and \"Developer,\" from \"Employee.\" Add an additional\n",
    "    attribute called \"department\" for the \"Manager\" class and \"programming_language\"\n",
    "    for the \"Developer\" class."
   ]
  },
  {
   "cell_type": "code",
   "execution_count": 8,
   "id": "fc9cd63b-f18e-4565-a7cd-011161a43499",
   "metadata": {},
   "outputs": [
    {
     "name": "stdout",
     "output_type": "stream",
     "text": [
      "Manager Alice works in the HR department and earns $75000 per year.\n",
      "Developer Bob is skilled in Python and earns $80000 per year.\n"
     ]
    }
   ],
   "source": [
    "class Employee:\n",
    "    def __init__(self, name, salary):\n",
    "        self.name = name\n",
    "        self.salary = salary\n",
    "\n",
    "class Manager(Employee):\n",
    "    def __init__(self, name, salary, department):\n",
    "        super().__init__(name, salary)  # Call the constructor of the base class\n",
    "        self.department = department\n",
    "\n",
    "class Developer(Employee):\n",
    "    def __init__(self, name, salary, programming_language):\n",
    "        super().__init__(name, salary)  # Call the constructor of the base class\n",
    "        self.programming_language = programming_language\n",
    "\n",
    "# Create instances of Manager and Developer\n",
    "manager1 = Manager(\"Alice\", 75000, \"HR\")\n",
    "developer1 = Developer(\"Bob\", 80000, \"Python\")\n",
    "\n",
    "# Accessing attributes\n",
    "print(f\"Manager {manager1.name} works in the {manager1.department} department and earns ${manager1.salary} per year.\")\n",
    "print(f\"Developer {developer1.name} is skilled in {developer1.programming_language} and earns ${developer1.salary} per year.\")\n"
   ]
  },
  {
   "cell_type": "markdown",
   "id": "2114cffb-75eb-4356-8633-2cd3c436ccdd",
   "metadata": {},
   "source": [
    "8. Design a base class called \"Shape\" with attributes like \"colour\" and \"border_width.\"\n",
    "    Create derived classes, \"Rectangle\" and \"Circle,\" that inherit from \"Shape\" and add\n",
    "    specific attributes like \"length\" and \"width\" for the \"Rectangle\" class and \"radius\" for\n",
    "    the \"Circle\" class."
   ]
  },
  {
   "cell_type": "code",
   "execution_count": 9,
   "id": "56db2f94-5fed-4ee2-bf6e-a14f0e389291",
   "metadata": {},
   "outputs": [
    {
     "name": "stdout",
     "output_type": "stream",
     "text": [
      "Rectangle: Colour = Red, Border Width = 2, Length = 10, Width = 5\n",
      "Circle: Colour = Blue, Border Width = 1, Radius = 7\n"
     ]
    }
   ],
   "source": [
    "class Shape:\n",
    "    def __init__(self, colour, border_width):\n",
    "        self.colour = colour\n",
    "        self.border_width = border_width\n",
    "\n",
    "class Rectangle(Shape):\n",
    "    def __init__(self, colour, border_width, length, width):\n",
    "        super().__init__(colour, border_width)  # Call the constructor of the base class\n",
    "        self.length = length\n",
    "        self.width = width\n",
    "\n",
    "class Circle(Shape):\n",
    "    def __init__(self, colour, border_width, radius):\n",
    "        super().__init__(colour, border_width)  # Call the constructor of the base class\n",
    "        self.radius = radius\n",
    "\n",
    "# Create instances of Rectangle and Circle\n",
    "rectangle1 = Rectangle(\"Red\", 2, 10, 5)\n",
    "circle1 = Circle(\"Blue\", 1, 7)\n",
    "\n",
    "# Accessing attributes\n",
    "print(f\"Rectangle: Colour = {rectangle1.colour}, Border Width = {rectangle1.border_width}, Length = {rectangle1.length}, Width = {rectangle1.width}\")\n",
    "print(f\"Circle: Colour = {circle1.colour}, Border Width = {circle1.border_width}, Radius = {circle1.radius}\")\n"
   ]
  },
  {
   "cell_type": "markdown",
   "id": "26512e61-a4fd-47da-8229-46576717b163",
   "metadata": {},
   "source": [
    "9. Create a base class called \"Device\" with attributes like \"brand\" and \"model.\" Derive\n",
    "    two classes, \"Phone\" and \"Tablet,\" from \"Device.\" Add specific attributes like\n",
    "    \"screen_size\" for the \"Phone\" class and \"battery_capacity\" for the \"Tablet\" class."
   ]
  },
  {
   "cell_type": "code",
   "execution_count": 10,
   "id": "3fb5ca4c-6c64-45c6-928a-326a711272da",
   "metadata": {},
   "outputs": [
    {
     "name": "stdout",
     "output_type": "stream",
     "text": [
      "Phone: Brand = Apple, Model = iPhone 12, Screen Size = 6.1 inches\n",
      "Tablet: Brand = Samsung, Model = Galaxy Tab S7, Battery Capacity = 8000 mAh\n"
     ]
    }
   ],
   "source": [
    "class Device:\n",
    "    def __init__(self, brand, model):\n",
    "        self.brand = brand\n",
    "        self.model = model\n",
    "\n",
    "class Phone(Device):\n",
    "    def __init__(self, brand, model, screen_size):\n",
    "        super().__init__(brand, model)  # Call the constructor of the base class\n",
    "        self.screen_size = screen_size\n",
    "\n",
    "class Tablet(Device):\n",
    "    def __init__(self, brand, model, battery_capacity):\n",
    "        super().__init__(brand, model)  # Call the constructor of the base class\n",
    "        self.battery_capacity = battery_capacity\n",
    "\n",
    "# Create instances of Phone and Tablet\n",
    "phone1 = Phone(\"Apple\", \"iPhone 12\", \"6.1 inches\")\n",
    "tablet1 = Tablet(\"Samsung\", \"Galaxy Tab S7\", \"8000 mAh\")\n",
    "\n",
    "# Accessing attributes\n",
    "print(f\"Phone: Brand = {phone1.brand}, Model = {phone1.model}, Screen Size = {phone1.screen_size}\")\n",
    "print(f\"Tablet: Brand = {tablet1.brand}, Model = {tablet1.model}, Battery Capacity = {tablet1.battery_capacity}\")\n"
   ]
  },
  {
   "cell_type": "markdown",
   "id": "cae95cce-6036-4383-a852-dcb48e301814",
   "metadata": {},
   "source": [
    "10. Create a base class called \"BankAccount\" with attributes like \"account_number\" and\n",
    "    \"balance.\" Derive two classes, \"SavingsAccount\" and \"CheckingAccount,\" from\n",
    "    \"BankAccount.\" Add specific methods like \"calculate_interest\" for the\n",
    "    \"SavingsAccount\" class and \"deduct_fees\" for the \"CheckingAccount\" class"
   ]
  },
  {
   "cell_type": "code",
   "execution_count": 11,
   "id": "752c1e4c-c822-4407-bb3f-7666cb52358a",
   "metadata": {},
   "outputs": [
    {
     "name": "stdout",
     "output_type": "stream",
     "text": [
      "Savings Account Balance: $5175.0\n",
      "Checking Account Balance: $2995.0\n"
     ]
    }
   ],
   "source": [
    "class BankAccount:\n",
    "    def __init__(self, account_number, balance):\n",
    "        self.account_number = account_number\n",
    "        self.balance = balance\n",
    "\n",
    "class SavingsAccount(BankAccount):\n",
    "    def __init__(self, account_number, balance, interest_rate):\n",
    "        super().__init__(account_number, balance)  # Call the constructor of the base class\n",
    "        self.interest_rate = interest_rate\n",
    "\n",
    "    def calculate_interest(self):\n",
    "        # Calculate and add interest to the balance\n",
    "        interest = self.balance * (self.interest_rate / 100)\n",
    "        self.balance += interest\n",
    "\n",
    "class CheckingAccount(BankAccount):\n",
    "    def __init__(self, account_number, balance, fee_per_transaction):\n",
    "        super().__init__(account_number, balance)  # Call the constructor of the base class\n",
    "        self.fee_per_transaction = fee_per_transaction\n",
    "\n",
    "    def deduct_fees(self, num_transactions):\n",
    "        # Deduct fees based on the number of transactions\n",
    "        fee = self.fee_per_transaction * num_transactions\n",
    "        self.balance -= fee\n",
    "\n",
    "# Create instances of SavingsAccount and CheckingAccount\n",
    "savings_account = SavingsAccount(\"S12345\", 5000.0, 3.5)\n",
    "checking_account = CheckingAccount(\"C67890\", 3000.0, 1.0)\n",
    "\n",
    "# Calculate interest for the savings account\n",
    "savings_account.calculate_interest()\n",
    "\n",
    "# Deduct fees for the checking account\n",
    "checking_account.deduct_fees(5)\n",
    "\n",
    "# Display updated balances\n",
    "print(f\"Savings Account Balance: ${savings_account.balance}\")\n",
    "print(f\"Checking Account Balance: ${checking_account.balance}\")\n"
   ]
  },
  {
   "cell_type": "code",
   "execution_count": null,
   "id": "6152da6c-0abb-4f40-9f44-e762a4d75dc6",
   "metadata": {},
   "outputs": [],
   "source": []
  }
 ],
 "metadata": {
  "kernelspec": {
   "display_name": "Python 3 (ipykernel)",
   "language": "python",
   "name": "python3"
  },
  "language_info": {
   "codemirror_mode": {
    "name": "ipython",
    "version": 3
   },
   "file_extension": ".py",
   "mimetype": "text/x-python",
   "name": "python",
   "nbconvert_exporter": "python",
   "pygments_lexer": "ipython3",
   "version": "3.10.6"
  }
 },
 "nbformat": 4,
 "nbformat_minor": 5
}
