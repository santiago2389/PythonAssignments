{
 "cells": [
  {
   "cell_type": "markdown",
   "id": "69eb7f17-15e3-4d21-92dd-f483939bd8ca",
   "metadata": {},
   "source": [
    "Submission Guidelines:\n",
    "● Answer all the questions in a single Jupyter Notebook file (.ipynb).\n",
    "● Include necessary code, comments, and explanations to support your answers and implementation.\n",
    "● Ensure the notebook’s cells containing code are already run.\n",
    "● Create a GitHub repository to host your assignment files.\n",
    "● Rename the Jupyter Notebook file using the format \"date_month_topic.ipynb\" (e.g., \"01_July_OOPs.ipynb\").\n",
    "● Place the Jupyter Notebook file in the repository.\n",
    "● Ensure the repository is publicly accessible.\n",
    "● Submit the link of the corresponding assignment present in your GitHub repository as the assignment\n",
    "submission link.\n",
    "Note:- Create your assignment in Jupyter notebook and upload it to GitHub & share that uploaded\n",
    "assignment file link through your dashboard. Make sure the repository is public"
   ]
  },
  {
   "cell_type": "markdown",
   "id": "0274d0ac-6686-40d1-8516-5443cb7e5a03",
   "metadata": {},
   "source": [
    "1. What is the primary goal of Object-Oriented Programming (OOP)?\n",
    "<br>ANS<br>\n",
    " - The three goals of Object Oriented Programming are Robustness, Adaptability, and Reusability."
   ]
  },
  {
   "cell_type": "markdown",
   "id": "1e594d5b-0ec5-4c13-b943-fa16704394a5",
   "metadata": {},
   "source": [
    "2. What is an object in Python?\n",
    "<br>ANS<br>\n",
    " - In Python, an object is a fundamental concept that represents a real-world entity, data, or structure within the program's memory. Everything in Python is an object, including numbers, strings, functions, classes, and more. Objects are instances of classes, and they are created based on the blueprint defined by the class."
   ]
  },
  {
   "cell_type": "markdown",
   "id": "a696a617-5af9-4240-82e7-d4582bd0c8c9",
   "metadata": {},
   "source": [
    "3. What is a class in Python?\n",
    "<br>ANS<br>\n",
    " - A class is like a blueprint that defines the structure and behavior of objects of that class. When you create an object, you are creating an instance of the class."
   ]
  },
  {
   "cell_type": "markdown",
   "id": "5c2cf292-8609-4038-83f9-6ae742e538e8",
   "metadata": {},
   "source": [
    "4. What are attributes and methods in a class?\n",
    " - Objects can have attributes (data) and methods (functions). Attributes are variables that store data related to the object, while methods are functions that define the behavior of the object"
   ]
  },
  {
   "cell_type": "markdown",
   "id": "a91ee303-ac64-4315-b9db-d07adbdf5a4f",
   "metadata": {},
   "source": [
    "5. What is the difference between class variables and instance variables in Python?\n",
    "<br>ANS<br>\n",
    " - In Python, class variables and instance variables are both used to store data within classes, but they have different scopes, lifetimes, and purposes. Here are the key differences between them:\n",
    "\n",
    "    1. Scope:\n",
    "\n",
    "    Class Variables: Class variables are shared among all instances (objects) of a class. They belong to the class itself rather than any specific instance. Changes made to class variables are reflected across all instances and the class itself.\n",
    "\n",
    "    Instance Variables: Instance variables are specific to each instance of a class. They belong to the object and are unique to that instance. Changes to instance variables do not affect other instances of the same class.\n",
    "\n",
    "    2. Declaration:\n",
    "\n",
    "    Class Variables: Class variables are defined within the class but outside of any instance methods. They are typically declared at the class level, above the __init__ method and other instance methods. They are often used for attributes that are shared by all instances.\n",
    "\n",
    "    Instance Variables: Instance variables are defined within the __init__ method or other instance methods using the self keyword. They are created and initialized for each instance separately, allowing each instance to have its own set of attributes.\n",
    "\n",
    "    3. Access:\n",
    "\n",
    "    Class Variables: Class variables can be accessed using the class name or an instance of the class. However, when accessed via an instance, they are still referring to the same class-level variable.\n",
    "\n",
    "    Instance Variables: Instance variables can only be accessed through instances of the class. They are specific to the instance and cannot be accessed directly through the class itself.\n",
    "\n",
    "    4. Purpose:\n",
    "\n",
    "    Class Variables: Class variables are often used to store data that is common to all instances of a class, such as configuration settings, constants, or shared data.\n",
    "\n",
    "    Instance Variables: Instance variables are used to store data that is unique to each instance of the class. They represent the state of individual objects and can vary from one instance to another."
   ]
  },
  {
   "cell_type": "markdown",
   "id": "d86e6e49-9b6e-4b08-8f27-b91ac6785b70",
   "metadata": {},
   "source": [
    "6. What is the purpose of the self parameter in Python class methods?\n",
    " - In Python, the self parameter in class methods serves the following key purposes:\n",
    "\n",
    "    1. Instance Reference: self is a reference to the instance of the class on which the method is called. It allows you to access and manipulate the attributes and behavior specific to that instance.\n",
    "\n",
    "    2. Accessing Instance Variables: Inside a class method, you can access instance variables (attributes) using self. This enables you to work with data unique to the specific instance, making it possible to have multiple objects of the same class with different states.\n",
    "\n",
    "    3. Invoking Other Instance Methods: You can use self to call other instance methods within the class. This promotes code organization and reusability, as you can break down complex behavior into smaller, more manageable methods.\n",
    "\n",
    "    4. Modifying Instance State: By using self, you can modify the state of the instance, such as updating attribute values. This allows you to perform actions that affect the behavior of the object."
   ]
  },
  {
   "cell_type": "markdown",
   "id": "1834cda7-cca4-4643-a9fe-a95867f9525b",
   "metadata": {},
   "source": [
    "7. For a library management system, you have to design the \"Book\" class with OOP\n",
    "    principles in mind. The “Book” class will have following attributes:\n",
    "    a. title: Represents the title of the book.\n",
    "    b. author: Represents the author(s) of the book.\n",
    "    c. isbn: Represents the ISBN (International Standard Book Number) of the book.\n",
    "    d. publication_year: Represents the year of publication of the book.\n",
    "    e. available_copies: Represents the number of copies available for checkout.\n",
    "    The class will also include the following methods:\n",
    "    a. check_out(self): Decrements the available copies by one if there are copies\n",
    "    available for checkout.\n",
    "    b. return_book(self): Increments the available copies by one when a book is\n",
    "    returned.\n",
    "    c. display_book_info(self): Displays the information about the book, including its\n",
    "    attributes and the number of available copies."
   ]
  },
  {
   "cell_type": "code",
   "execution_count": 6,
   "id": "911b79c0-474e-499a-b40d-dcc6aa4248a2",
   "metadata": {},
   "outputs": [
    {
     "name": "stdout",
     "output_type": "stream",
     "text": [
      "------------------------------\n",
      "Book Details:\n",
      "Title: Alchemist\n",
      "Author: Paulo\n",
      "ISBN: CCHPK1234\n",
      "Publication Year: 2000\n",
      "Copies Available: 100\n",
      "Alchemist book is checked out\n",
      "------------------------------\n",
      "Book Details:\n",
      "Title: Alchemist\n",
      "Author: Paulo\n",
      "ISBN: CCHPK1234\n",
      "Publication Year: 2000\n",
      "Copies Available: 99\n",
      "Alchemist book is returned\n",
      "------------------------------\n",
      "Book Details:\n",
      "Title: Alchemist\n",
      "Author: Paulo\n",
      "ISBN: CCHPK1234\n",
      "Publication Year: 2000\n",
      "Copies Available: 100\n"
     ]
    }
   ],
   "source": [
    "class Book:\n",
    "    def __init__(self, title, author, isbn, publication_year, copies_available):\n",
    "        self.title = title\n",
    "        self.author = author\n",
    "        self.isbn = isbn\n",
    "        self.publication_year = publication_year\n",
    "        self.copies_available = copies_available\n",
    "    def check_out(self):\n",
    "        if self.copies_available > 0:\n",
    "            self.copies_available = self.copies_available - 1\n",
    "            print(f\"{self.title} book is checked out\")\n",
    "        else:\n",
    "            print(\"No more copies are available\")\n",
    "    def return_book(self):\n",
    "        self.copies_available = self.copies_available + 1\n",
    "        print(f\"{self.title} book is returned\")\n",
    "    def display_book_info(self):\n",
    "        print(30 * \"-\")\n",
    "        print(\"Book Details:\")\n",
    "        print(f\"Title: {self.title}\")\n",
    "        print(f\"Author: {self.author}\")\n",
    "        print(f\"ISBN: {self.isbn}\")\n",
    "        print(f\"Publication Year: {self.publication_year}\")\n",
    "        print(f\"Copies Available: {self.copies_available}\")\n",
    "\n",
    "book_1 = Book(\"Alchemist\", \"Paulo\", \"CCHPK1234\", 2000, 100)\n",
    "book_1.display_book_info()\n",
    "book_1.check_out()\n",
    "book_1.display_book_info()\n",
    "book_1.return_book()\n",
    "book_1.display_book_info()"
   ]
  },
  {
   "cell_type": "markdown",
   "id": "433a9302-e6b5-4f6c-a137-a09d8492db82",
   "metadata": {},
   "source": [
    "8. For a ticket booking system, you have to design the \"Ticket\" class with OOP\n",
    "    principles in mind. The “Ticket” class should have the following attributes:\n",
    "    a. ticket_id: Represents the unique identifier for the ticket.\n",
    "    b. event_name: Represents the name of the event.\n",
    "    c. event_date: Represents the date of the event.\n",
    "    d. venue: Represents the venue of the event.\n",
    "    e. seat_number: Represents the seat number associated with the ticket.\n",
    "    f. price: Represents the price of the ticket.\n",
    "    g. is_reserved: Represents the reservation status of the ticket.\n",
    "    The class also includes the following methods:\n",
    "    a. reserve_ticket(self): Marks the ticket as reserved if it is not already reserved.\n",
    "    b. cancel_reservation(self): Cancels the reservation of the ticket if it is already\n",
    "    reserved.\n",
    "    c. display_ticket_info(self): Displays the information about the ticket, including its\n",
    "    attributes and reservation status.\n"
   ]
  },
  {
   "cell_type": "code",
   "execution_count": 8,
   "id": "e7a6840a-e658-4f4d-9b06-e0381910d64f",
   "metadata": {},
   "outputs": [
    {
     "name": "stdout",
     "output_type": "stream",
     "text": [
      "------------------------------\n",
      "Ticket ID: 1\n",
      "Event Name: Concert\n",
      "Event Date: 2023-10-15\n",
      "Venue: Arena Stadium\n",
      "Seat Number: A101\n",
      "Price: $50.0\n",
      "Reservation Status: Not Reserved\n",
      "Ticket 1 has been reserved.\n",
      "------------------------------\n",
      "Ticket ID: 1\n",
      "Event Name: Concert\n",
      "Event Date: 2023-10-15\n",
      "Venue: Arena Stadium\n",
      "Seat Number: A101\n",
      "Price: $50.0\n",
      "Reservation Status: Reserved\n",
      "Reservation for ticket 1 has been canceled.\n",
      "------------------------------\n",
      "Ticket ID: 1\n",
      "Event Name: Concert\n",
      "Event Date: 2023-10-15\n",
      "Venue: Arena Stadium\n",
      "Seat Number: A101\n",
      "Price: $50.0\n",
      "Reservation Status: Not Reserved\n"
     ]
    }
   ],
   "source": [
    "class Ticket:\n",
    "    def __init__(self, ticket_id, event_name, event_date, venue, seat_number, price):\n",
    "        self.ticket_id = ticket_id\n",
    "        self.event_name = event_name\n",
    "        self.event_date = event_date\n",
    "        self.venue = venue\n",
    "        self.seat_number = seat_number\n",
    "        self.price = price\n",
    "        self.is_reserved = False  # Ticket is initially not reserved\n",
    "\n",
    "    def reserve_ticket(self):\n",
    "        if not self.is_reserved:\n",
    "            self.is_reserved = True\n",
    "            print(f\"Ticket {self.ticket_id} has been reserved.\")\n",
    "        else:\n",
    "            print(f\"Ticket {self.ticket_id} is already reserved.\")\n",
    "\n",
    "    def cancel_reservation(self):\n",
    "        if self.is_reserved:\n",
    "            self.is_reserved = False\n",
    "            print(f\"Reservation for ticket {self.ticket_id} has been canceled.\")\n",
    "        else:\n",
    "            print(f\"Ticket {self.ticket_id} is not reserved.\")\n",
    "\n",
    "    def display_ticket_info(self):\n",
    "        reservation_status = \"Reserved\" if self.is_reserved else \"Not Reserved\"\n",
    "        print(30 * \"-\")\n",
    "        print(f\"Ticket ID: {self.ticket_id}\")\n",
    "        print(f\"Event Name: {self.event_name}\")\n",
    "        print(f\"Event Date: {self.event_date}\")\n",
    "        print(f\"Venue: {self.venue}\")\n",
    "        print(f\"Seat Number: {self.seat_number}\")\n",
    "        print(f\"Price: ${self.price}\")\n",
    "        print(f\"Reservation Status: {reservation_status}\")\n",
    "\n",
    "\n",
    "# Example usage:\n",
    "\n",
    "# Create a ticket instance\n",
    "ticket1 = Ticket(1, \"Concert\", \"2023-10-15\", \"Arena Stadium\", \"A101\", 50.0)\n",
    "\n",
    "# Display ticket info (before reservation)\n",
    "ticket1.display_ticket_info()\n",
    "\n",
    "# Reserve the ticket\n",
    "ticket1.reserve_ticket()\n",
    "\n",
    "# Display ticket info (after reservation)\n",
    "ticket1.display_ticket_info()\n",
    "\n",
    "# Cancel the reservation\n",
    "ticket1.cancel_reservation()\n",
    "\n",
    "# Display ticket info (after cancellation)\n",
    "ticket1.display_ticket_info()\n"
   ]
  },
  {
   "cell_type": "markdown",
   "id": "85f46b5c-7470-4176-970d-ca37d0b7d4e1",
   "metadata": {},
   "source": [
    "9. You are creating a shopping cart for an e-commerce website. Using OOP to model the \"ShoppingCart\" functionality the class should contain following attributes and methods:\n",
    "    a. items: Represents the list of items in the shopping cart.\n",
    "    The class also includes the following methods:\n",
    "    a. add_item(self, item): Adds an item to the shopping cart by appending it to the\n",
    "    list of items.\n",
    "    b. remove_item(self, item): Removes an item from the shopping cart if it exists in\n",
    "    the list.\n",
    "    c. view_cart(self): Displays the items currently present in the shopping cart.\n",
    "    d. clear_cart(self): Clears all items from the shopping cart by reassigning an\n",
    "    empty list to the items attribute."
   ]
  },
  {
   "cell_type": "code",
   "execution_count": 10,
   "id": "72b80ccc-ebe2-4d58-93a0-64c5f7c2081f",
   "metadata": {},
   "outputs": [
    {
     "name": "stdout",
     "output_type": "stream",
     "text": [
      "Items in cart: \n",
      "1: Shirt\n",
      "2: Trouser\n",
      "3: Toys\n",
      "4: Biscuits\n",
      "Shoes added to cart\n",
      "Items in cart: \n",
      "1: Shirt\n",
      "2: Trouser\n",
      "3: Toys\n",
      "4: Biscuits\n",
      "5: Shoes\n",
      "Trouser removed from cart\n",
      "Items in cart: \n",
      "1: Shirt\n",
      "2: Toys\n",
      "3: Biscuits\n",
      "4: Shoes\n",
      "Cart is empty\n",
      "Items in cart: \n"
     ]
    }
   ],
   "source": [
    "class ShoppingCart:\n",
    "    def __init__(self, items):\n",
    "        self.items = items\n",
    "    def add_item(self, item):\n",
    "        self.items.append(item)\n",
    "        print(f\"{item} added to cart\")\n",
    "    def remove_item(self, item):\n",
    "        self.items.remove(item)\n",
    "        print(f\"{item} removed from cart\")\n",
    "    def view_cart(self):\n",
    "        print(\"Items in cart: \")\n",
    "        for i, item in enumerate(self.items):\n",
    "            print(f\"{i+1}: {item}\")\n",
    "    def clear_cart(self):\n",
    "        self.items.clear()\n",
    "        print(\"Cart is empty\")\n",
    "        \n",
    "cart = ShoppingCart([\"Shirt\", \"Trouser\", \"Toys\", \"Biscuits\"])\n",
    "cart.view_cart()  \n",
    "cart.add_item(\"Shoes\")\n",
    "cart.view_cart()  \n",
    "cart.remove_item(\"Trouser\")\n",
    "cart.view_cart()  \n",
    "cart.clear_cart()\n",
    "cart.view_cart()"
   ]
  },
  {
   "cell_type": "markdown",
   "id": "02deabdb-3c71-44ba-9303-4b4824ca2926",
   "metadata": {},
   "source": [
    "10. Imagine a school management system. You have to design the \"Student\" class using\n",
    "    OOP concepts.The “Student” class has the following attributes:\n",
    "    a. name: Represents the name of the student.\n",
    "    b. age: Represents the age of the student.\n",
    "    c. grade: Represents the grade or class of the student.\n",
    "    d. student_id: Represents the unique identifier for the student.\n",
    "    e. attendance: Represents the attendance record of the student.\n",
    "    The class should also include the following methods:\n",
    "    a. update_attendance(self, date, status): Updates the attendance record of the\n",
    "    student for a given date with the provided status (e.g., present or absent).\n",
    "    b. get_attendance(self): Returns the attendance record of the student.\n",
    "    c. get_average_attendance(self): Calculates and returns the average\n",
    "    attendance percentage of the student based on their attendance record."
   ]
  },
  {
   "cell_type": "code",
   "execution_count": 25,
   "id": "5fb6e578-ca0a-41d6-8310-6b9b6d739b8e",
   "metadata": {},
   "outputs": [
    {
     "name": "stdout",
     "output_type": "stream",
     "text": [
      "attendance: [{'Date': '17-09-2023', 'Status': 'Present'}, {'Date': '18-09-2023', 'Status': 'Present'}, {'Date': '19-09-2023', 'Status': 'Absent'}, {'Date': '20-09-2023', 'Status': 'Present'}, {'Date': '21-09-2023', 'Status': 'Present'}]\n",
      "average_attendance: 80.0\n"
     ]
    }
   ],
   "source": [
    "class Student:\n",
    "    def __init__(self, name, age, grade, student_id, attendance):\n",
    "        self.name = name\n",
    "        self.age = age\n",
    "        self.grade = grade\n",
    "        self.student_id = student_id\n",
    "        self.attendance = []\n",
    "    def update_attendance(self, date, status):\n",
    "        self.attendance.append({\"Date\": date, \"Status\": status})\n",
    "    def get_attendance(self):\n",
    "        return self.attendance\n",
    "    def get_average_attendance(self):\n",
    "        present_count = [item[\"Status\"] for item  in self.attendance if item[\"Status\"] == \"Present\"]\n",
    "        avg_attendance = 100 *len(present_count)/len(self.attendance)\n",
    "        return avg_attendance\n",
    "        \n",
    "student_1 = Student(\"Santosh\", 13, 7, 23, [])\n",
    "student_1.update_attendance(\"17-09-2023\", \"Present\")\n",
    "student_1.update_attendance(\"18-09-2023\", \"Present\")\n",
    "student_1.update_attendance(\"19-09-2023\", \"Absent\")\n",
    "student_1.update_attendance(\"20-09-2023\", \"Present\")\n",
    "student_1.update_attendance(\"21-09-2023\", \"Present\")\n",
    "print(f\"attendance: {student_1.get_attendance()}\")\n",
    "print(f\"average_attendance: {student_1.get_average_attendance()}\")"
   ]
  },
  {
   "cell_type": "code",
   "execution_count": null,
   "id": "7a04f69b-c053-46d0-9145-1d68e86e4679",
   "metadata": {},
   "outputs": [],
   "source": []
  }
 ],
 "metadata": {
  "kernelspec": {
   "display_name": "Python 3 (ipykernel)",
   "language": "python",
   "name": "python3"
  },
  "language_info": {
   "codemirror_mode": {
    "name": "ipython",
    "version": 3
   },
   "file_extension": ".py",
   "mimetype": "text/x-python",
   "name": "python",
   "nbconvert_exporter": "python",
   "pygments_lexer": "ipython3",
   "version": "3.10.6"
  }
 },
 "nbformat": 4,
 "nbformat_minor": 5
}
