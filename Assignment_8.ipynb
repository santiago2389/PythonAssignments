{
 "cells": [
  {
   "cell_type": "markdown",
   "id": "2e1d6c6a-6600-4717-8ea1-5b3b46c8c94f",
   "metadata": {},
   "source": [
    "1. In Python, what is the difference between a built-in function and a user-defined function? Provide an example of each.\n",
    "<br>\n",
    "ANS:\n",
    "<br>\n",
    "A Functions that readily come with Python language are called built-in functions.\n",
    "e.g print(), int(), len(), sorted()\n",
    "All the functions that are written by a programmer are user-defined functions.\n",
    "\n",
    "```\n",
    "def add():\n",
    "    a = 2\n",
    "    b = 3\n",
    "    return (a+b)\n",
    "```"
   ]
  },
  {
   "cell_type": "markdown",
   "id": "25853fd4-830f-428d-b16f-22fcfd2d8775",
   "metadata": {},
   "source": [
    "2. How can you pass arguments to a function in Python? Explain the difference between positional\n",
    "arguments and keyword arguments.\n",
    "<br>\n",
    "ANS:\n",
    "<br>\n",
    " - Python functions can contain two types of arguments: positional arguments and keyword arguments.\n",
    "\n",
    " - Positional arguments must be included in the same order as defined in the function declaration.\n",
    " - Keyword arguments are included with a keyword and equals sign\n",
    "\n",
    "```\n",
    "# positional arguments\n",
    "def subtract(a, b):\n",
    "    return a - b\n",
    "a, b = 20, 10\n",
    "result1 = subtract(a, b)\n",
    "```\n",
    "\n",
    "```\n",
    "# keyword arguments\n",
    "def my_info(name, age):\n",
    "    print(\"Hi, I am\", name)\n",
    "    print(\"My age is \", age)\n",
    " \n",
    "my_info(name=\"Prince\", age=20)\n",
    "```"
   ]
  },
  {
   "cell_type": "markdown",
   "id": "ccc2bb0c-331e-40f2-b857-1938cd3f9ad9",
   "metadata": {},
   "source": [
    "3. What is the purpose of the return statement in a function? Can a function have multiple return\n",
    "statements? Explain with an example.\n",
    "<br>\n",
    "Ans:\n",
    "<br>\n",
    " - A return statement is used to end the execution of the function call and “returns” the result (value of the expression following the return keyword) to the caller.\n",
    " - The statements after the return statements are not executed. If the return statement is without any expression, then the special value None is returned\n",
    " - Inside a function we perform some calculations to achieve some results. If a program is calling this funtion and the result is required for further use by the program, then function should return the results. \n",
    " - Depeneding on the conditional statements such as if, elif and else a function can have multiple return statements but either of them will be executed at run time\n",
    "\n",
    "```\n",
    "def is_true(a):\n",
    "    #returning boolean of a\n",
    "    return bool(a)\n",
    "#calling function\n",
    "res = is_true(2<5)\n",
    "```"
   ]
  },
  {
   "cell_type": "markdown",
   "id": "bd52db9e-f76a-46bd-a897-c73e42599435",
   "metadata": {},
   "source": [
    "4. What are lambda functions in Python? How are they different from regular functions? Provide an example where a lambda function can be useful.\n",
    "<br>Ans:<br>\n",
    "The lambda functions can be used without any declaration in the namespace. \n",
    "The lambda functions defined above are like single-line functions. \n",
    "These functions do not have parenthesis like the def defined functions but instead, take parameters after the lambda keyword as shown above. \n",
    "There is no return keyword defined explicitly because the lambda function does return an object by default\n",
    "\n",
    "| lambda functions | regular functions| \n",
    "|:--------:|:--------:|\n",
    "|The limited operation can be performed using lambda functions  | Can consists of any number of execution statements inside the function definition   | \n",
    "|----------|----------|\n",
    "|  No need of using the return statement | To return an object from the function, return should be explicitly defined  | \n",
    "|----------|----------|\n",
    "| Execution time of the program is fast for the same operation  | Execution time is relatively slower for the same operation performed using lambda functions   | \n",
    "|----------|----------|\n",
    "| Defined using the keyword lambda and does not compulsorily hold a function name in the local namespace  | Defined using the keyword def and holds a function name in the local namespace  | "
   ]
  },
  {
   "cell_type": "markdown",
   "id": "480039dd-00d2-4b17-880c-dba8d2f692b7",
   "metadata": {},
   "source": [
    "5. How does the concept of \"scope\" apply to functions in Python? Explain the difference between local scope and global scope.\n",
    "<br>Ans<br>\n",
    " - There are two types of variables: global variables and local variables.\n",
    " - A variable is only available from inside the region it is created. This is called scope.\n",
    " - The scope of global variables is the entire program whereas the scope of local variable is limited to the function where it is defined\n",
    " - A variable created in the main body of the Python code is a global variable and belongs to the global scope. Global variables are available from within any scope, global and local"
   ]
  },
  {
   "cell_type": "markdown",
   "id": "8af7898a-6f3a-468a-9e0e-7df95e4bd703",
   "metadata": {},
   "source": [
    "6. How can you use the \"return\" statement in a Python function to return multiple values?\n",
    "<br>Ans<br>\n",
    " - To return multiple values from a function use keyword return and provide comma separated values after it.\n",
    " ```\n",
    " def foo():\n",
    "     a, b, c = 1, 2, 3\n",
    "     return a*a, b*b, c*c\n",
    " #call to function\n",
    " foo()\n",
    " ```"
   ]
  },
  {
   "cell_type": "markdown",
   "id": "bf980154-4ac0-4cf7-b293-0d406ed9f7ff",
   "metadata": {},
   "source": [
    "7. What is the difference between the \"pass by value\" and \"pass by reference\" concepts when it comes to function arguments in Python?\n",
    "<br>Ans<br>\n",
    " - In \"pass by value\" approach, we pass a copy of actual variables in function as a parameter. Hence any modification on parameters inside the function will not reflect in the actual variable\n",
    " - In \"pass by reference\" approach, the argument you’re passing to the function is a reference to a variable that already exists in memory rather than an independent copy of that variable"
   ]
  },
  {
   "cell_type": "markdown",
   "id": "0d1a26cc-5f0c-43ea-ba11-d1cafcacc6e2",
   "metadata": {},
   "source": [
    "8. Create a function that can intake integer or decimal value and do following operations:\n",
    "    a. Logarithmic function (log x)\n",
    "    b. Exponential function (exp(x))\n",
    "    c. Power function with base 2 (2\n",
    "    x\n",
    "    )\n",
    "    d. Square root\n",
    "<br>Ans<br>\n",
    "\n",
    "```\n",
    "import math\n",
    "\n",
    "def perform_operations(x):\n",
    "    if isinstance(x, (int, float)):\n",
    "        log_x = math.log(x)\n",
    "        exp_x = math.exp(x)\n",
    "        power_2_x = 2 ** x\n",
    "        sqrt_x = math.sqrt(x)\n",
    "\n",
    "        return {\n",
    "            \"logarithm\": log_x,\n",
    "            \"exponential\": exp_x,\n",
    "            \"power_2\": power_2_x,\n",
    "            \"square_root\": sqrt_x,\n",
    "        }\n",
    "    else:\n",
    "        return \"Input must be an integer or decimal value.\"\n",
    "\n",
    "# Example usage:\n",
    "input_value = 4.0  # Replace with your desired input value\n",
    "results = perform_operations(input_value)\n",
    "print(results)\n",
    "```"
   ]
  },
  {
   "cell_type": "markdown",
   "id": "e13f538d-d945-4dfd-a2fa-835b27c5d33d",
   "metadata": {},
   "source": [
    "9. Create a function that takes a full name as an argument and returns first name and last name\n",
    "<br>Ans<br>\n",
    "```\n",
    "def name_spliter(fullname):\n",
    "\n",
    "    first_name, last_name =  fullname.split( )\n",
    "    return  first_name, last_name\n",
    "\n",
    "first_name, last_name = name_spliter(\"Santosh Kamble\")\n",
    "print(f\"first name: {first_name}\")\n",
    "print(f\"last name: {last_name}\")\n",
    "    \n",
    "```"
   ]
  },
  {
   "cell_type": "code",
   "execution_count": null,
   "id": "a166b992-694f-42dc-b215-aa8f41c29443",
   "metadata": {},
   "outputs": [],
   "source": []
  }
 ],
 "metadata": {
  "kernelspec": {
   "display_name": "Python 3 (ipykernel)",
   "language": "python",
   "name": "python3"
  },
  "language_info": {
   "codemirror_mode": {
    "name": "ipython",
    "version": 3
   },
   "file_extension": ".py",
   "mimetype": "text/x-python",
   "name": "python",
   "nbconvert_exporter": "python",
   "pygments_lexer": "ipython3",
   "version": "3.10.6"
  }
 },
 "nbformat": 4,
 "nbformat_minor": 5
}
