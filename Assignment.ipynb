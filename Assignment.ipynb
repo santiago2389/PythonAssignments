{
 "cells": [
  {
   "cell_type": "markdown",
   "metadata": {},
   "source": [
    "1. What is the role of try and exception block?\n",
    "<br>ANS<br> \n",
    " - When an error or exception occurs, Python will normally stop and generate an error message.\n",
    " - The try block lets you test a block of code for errors.\n",
    " - The except block lets you handle the error."
   ]
  },
  {
   "cell_type": "markdown",
   "metadata": {},
   "source": [
    "2. What is the syntax for a basic try-except block?\n",
    "<br>ANS<br>\n",
    "```\n",
    "try:\n",
    "    # Some Code\n",
    "except:\n",
    "    # Executed if error in the\n",
    "    # try block\n",
    "    \n",
    "```"
   ]
  },
  {
   "cell_type": "markdown",
   "metadata": {},
   "source": [
    "3. What happens if an exception occurs inside a try block and there is no matching except block?\n",
    "<br>ANS<br>\n",
    " - If there is no matching except  block for a try block and an exception occurs, program will give a syntax error\n",
    "``` \n",
    " try:\n",
    "    n = 5/0\n",
    "```\n",
    "```\n",
    "  Cell In [2], line 2\n",
    "    n = 5/0\n",
    "           ^\n",
    "SyntaxError: incomplete input\n",
    "```"
   ]
  }
 ],
 "metadata": {
  "kernelspec": {
   "display_name": "base",
   "language": "python",
   "name": "python3"
  },
  "language_info": {
   "codemirror_mode": {
    "name": "ipython",
    "version": 3
   },
   "file_extension": ".py",
   "mimetype": "text/x-python",
   "name": "python",
   "nbconvert_exporter": "python",
   "pygments_lexer": "ipython3",
   "version": "3.9.12"
  },
  "orig_nbformat": 4
 },
 "nbformat": 4,
 "nbformat_minor": 2
}
