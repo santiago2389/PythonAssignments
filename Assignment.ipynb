{
 "cells": [
  {
   "cell_type": "markdown",
   "metadata": {},
   "source": [
    "1. What is the role of try and exception block?\n",
    "<br>ANS<br> \n",
    " - When an error or exception occurs, Python will normally stop and generate an error message.\n",
    " - The try block lets you test a block of code for errors.\n",
    " - The except block lets you handle the error."
   ]
  },
  {
   "cell_type": "markdown",
   "metadata": {},
   "source": [
    "2. What is the syntax for a basic try-except block?\n",
    "<br>ANS<br>\n",
    "```\n",
    "try:\n",
    "    # Some Code\n",
    "except:\n",
    "    # Executed if error in the\n",
    "    # try block\n",
    "    \n",
    "```"
   ]
  },
  {
   "cell_type": "markdown",
   "metadata": {},
   "source": [
    "3. What happens if an exception occurs inside a try block and there is no matching except block?\n",
    "<br>ANS<br>\n",
    " - If there is no matching except  block for a try block and an exception occurs, program will give a syntax error\n",
    "``` \n",
    " try:\n",
    "    n = 5/0\n",
    "```\n",
    "```\n",
    "  Cell In [2], line 2\n",
    "    n = 5/0\n",
    "           ^\n",
    "SyntaxError: incomplete input\n",
    "```"
   ]
  },
  {
   "cell_type": "markdown",
   "metadata": {},
   "source": [
    "4. What is the difference between using a bare except block and specifying a specific\n",
    "    exception type?\n",
    "<br>ANS<br>\n",
    " - When you use a bare except block, it will catch and handle any exception that occurs within the try block. This includes both built-in exceptions (e.g., ValueError, TypeError, ZeroDivisionError) and user-defined exceptions\n",
    " - When you specify a specific exception type (e.g., ValueError, FileNotFoundError, ZeroDivisionError) in the except block, it will only catch and handle exceptions of that particular type\n"
   ]
  },
  {
   "cell_type": "markdown",
   "metadata": {},
   "source": [
    "5. Can you have nested try-except blocks in Python? If yes, then give an example.\n",
    "<br>ANS<br>\n",
    " - Yes, we can have nested try-except blocks in Python. This means you can place one try-except block inside another to handle exceptions at different levels of your code. This is useful when you want to handle exceptions in a hierarchical manner, where you may have broader error handling at the outer level and more specific error handling at the inner level\n",
    "```\n",
    "try:\n",
    "    # Outer try block\n",
    "    num1 = int(input(\"Enter a numerator: \"))\n",
    "    num2 = int(input(\"Enter a denominator: \"))\n",
    "\n",
    "    try:\n",
    "        # Inner try block\n",
    "        result = num1 / num2\n",
    "    except ZeroDivisionError:\n",
    "        print(\"Inner: Division by zero is not allowed.\")\n",
    "    except ValueError:\n",
    "        print(\"Inner: Please enter valid numeric values for the denominator.\")\n",
    "    else:\n",
    "        # This block is executed if no exception occurs in the inner try block\n",
    "        print(f\"Inner: The result of division is {result:.2f}\")\n",
    "\n",
    "except ValueError:\n",
    "    print(\"Outer: Please enter valid numeric values for both numerator and denominator.\")\n",
    "except Exception as e:\n",
    "    print(f\"Outer: An error occurred: {e}\")\n",
    "\n",
    "```"
   ]
  }
 ],
 "metadata": {
  "kernelspec": {
   "display_name": "base",
   "language": "python",
   "name": "python3"
  },
  "language_info": {
   "codemirror_mode": {
    "name": "ipython",
    "version": 3
   },
   "file_extension": ".py",
   "mimetype": "text/x-python",
   "name": "python",
   "nbconvert_exporter": "python",
   "pygments_lexer": "ipython3",
   "version": "3.9.12"
  },
  "orig_nbformat": 4
 },
 "nbformat": 4,
 "nbformat_minor": 2
}
