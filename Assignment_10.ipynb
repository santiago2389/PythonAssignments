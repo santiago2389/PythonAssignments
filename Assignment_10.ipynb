1. What is the role of try and exception block?
<br>ANS<br> 
 - When an error or exception occurs, Python will normally stop and generate an error message.
 - The try block lets you test a block of code for errors.
 - The except block lets you handle the error.
2. What is the syntax for a basic try-except block?
<br>ANS<br>
```
try:
    # Some Code
except:
    # Executed if error in the
    # try block
```
3. What happens if an exception occurs inside a try block and there is no matching except block?
<br>ANS<br>
 - If there is no matching except  block for a try block and an exception occurs, program will give a syntax error
``` 
 try:
    n = 5/0
```
```
  Cell In [2], line 2
    n = 5/0
           ^
SyntaxError: incomplete input
```
4. What is the difference between using a bare except block and specifying a specific
    exception type?
<br>ANS<br>
 - When you use a bare except block, it will catch and handle any exception that occurs within the try block. This includes both built-in exceptions (e.g., ValueError, TypeError, ZeroDivisionError) and user-defined exceptions
 - When you specify a specific exception type (e.g., ValueError, FileNotFoundError, ZeroDivisionError) in the except block, it will only catch and handle exceptions of that particular type

5. Can you have nested try-except blocks in Python? If yes, then give an example.
<br>ANS<br>
 - Yes, we can have nested try-except blocks in Python. This means you can place one try-except block inside another to handle exceptions at different levels of your code. This is useful when you want to handle exceptions in a hierarchical manner, where you may have broader error handling at the outer level and more specific error handling at the inner level
```
try:
    # Outer try block
    num1 = int(input("Enter a numerator: "))
    num2 = int(input("Enter a denominator: "))

    try:
        # Inner try block
        result = num1 / num2
    except ZeroDivisionError:
        print("Inner: Division by zero is not allowed.")
    except ValueError:
        print("Inner: Please enter valid numeric values for the denominator.")
    else:
        # This block is executed if no exception occurs in the inner try block
        print(f"Inner: The result of division is {result:.2f}")

except ValueError:
    print("Outer: Please enter valid numeric values for both numerator and denominator.")
except Exception as e:
    print(f"Outer: An error occurred: {e}")

```
6. Can we use multiple exception blocks, if yes then give an example.
<br>ANS<br>
 - Yes we can use multiple exception blocks
```
# Outer try block
num1 = int(input("Enter a numerator: "))
num2 = int(input("Enter a denominator: "))

try:
    # Inner try block
    result = num1 / num2
except ZeroDivisionError:
    print("Division by zero is not allowed.")
except ValueError:
    print(" Please enter valid numeric values for the denominator.")
else:
    # This block is executed if no exception occurs in the inner try block
    print(f"The result of division is {result:.2f}")
```
7. Write the reason due to which following errors are raised:
    a. EOFError
    b. FloatingPointError
    c. IndexError
    d. MemoryError
    e. OverflowError
    f. TabError
    g. ValueError
<br>ANS<br>
 - EOFError<br>
    An EOFError is raised when built-in functions like input() hits an end-of-file condition (EOF) without reading any data. The file methods like readline() return an empty string when they hit EOF.
 - FloatingPointError<br>
    A FloatingPointError is raised when a floating point operation fails. This exception is always defined, but can only be raised when Python is configured with the–with-fpectl option, or the WANT_SIGFPE_HANDLER symbol is defined in the pyconfig.h file.
 - IndexError<br>
    An IndexError is raised when a sequence is referenced which is out of range
 - MemoryError<br>
    This error is raised when an operation runs out of memory.
 - OverflowError<br>
    The OverflowError is raised when the result of an arithmetic operation is out of range. Integers raise MemoryError instead of OverflowError
 - TabError<br>
    Raised when there are inconsistent or improper use of tabs and spaces for indentation in Python code. Python relies on consistent indentation to define code blocks, so mixing tabs and spaces can lead to this error
 - ValueError<br>
    A ValueError is raised when a built-in operation or function receives an argument that has the right type but an invalid value
8. Write code for the following given scenario and add try-exception block to it.
    a. Program to divide two numbers
    b. Program to convert a string to an integer
    c. Program to access an element in a list
    d. Program to handle a specific exception
    e. Program to handle any exception
<br>ANS<br>
- a. Program to divide two numbers:

```
try:
    numerator = int(input("Enter the numerator: "))
    denominator = int(input("Enter the denominator: "))
    result = numerator / denominator
    print(f"The result of division is: {result}")
except ZeroDivisionError:
    print("Error: Division by zero is not allowed.")
except ValueError:
    print("Error: Please enter valid numeric values.")
except Exception as e:
    print(f"An error occurred: {e}")
```

 - b. Program to convert a string to an integer:

```
try:
    num_str = input("Enter a number: ")
    num = int(num_str)
    print(f"The integer value is: {num}")
except ValueError:
    print("Error: Invalid input. Please enter a valid integer.")
except Exception as e:
    print(f"An error occurred: {e}")
```

 - c. Program to access an element in a list:

```
my_list = [1, 2, 3, 4, 5]
try:
    index = int(input("Enter an index to access: "))
    value = my_list[index]
    print(f"The value at index {index} is: {value}")
except IndexError:
    print("Error: Index out of range. Please enter a valid index.")
except ValueError:
    print("Error: Please enter a valid integer for the index.")
except Exception as e:
    print(f"An error occurred: {e}")
```

 - d. Program to handle a specific exception (e.g., FileNotFoundError):

```
try:
    file_name = "nonexistent_file.txt"
    with open(file_name, "r") as file:
        content = file.read()
    print(content)
except FileNotFoundError:
    print(f"Error: The file '{file_name}' does not exist.")
except Exception as e:
    print(f"An error occurred: {e}")
```

 - e. Program to handle any exception:

```
try:
    num1 = int(input("Enter a number: "))
    num2 = int(input("Enter another number: "))
    result = num1 / num2
    print(f"The result is: {result}")
except Exception as e:
    print(f"An error occurred: {e}")
```
